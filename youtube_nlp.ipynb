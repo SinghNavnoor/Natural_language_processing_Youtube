{
 "cells": [
  {
   "cell_type": "markdown",
   "metadata": {},
   "source": [
    "Loading the Data"
   ]
  },
  {
   "cell_type": "code",
   "execution_count": 2,
   "metadata": {},
   "outputs": [
    {
     "data": {
      "text/html": [
       "<div>\n",
       "<style scoped>\n",
       "    .dataframe tbody tr th:only-of-type {\n",
       "        vertical-align: middle;\n",
       "    }\n",
       "\n",
       "    .dataframe tbody tr th {\n",
       "        vertical-align: top;\n",
       "    }\n",
       "\n",
       "    .dataframe thead th {\n",
       "        text-align: right;\n",
       "    }\n",
       "</style>\n",
       "<table border=\"1\" class=\"dataframe\">\n",
       "  <thead>\n",
       "    <tr style=\"text-align: right;\">\n",
       "      <th></th>\n",
       "      <th>link</th>\n",
       "      <th>title</th>\n",
       "      <th>description</th>\n",
       "      <th>category</th>\n",
       "    </tr>\n",
       "  </thead>\n",
       "  <tbody>\n",
       "    <tr>\n",
       "      <th>0</th>\n",
       "      <td>JLZlCZ0</td>\n",
       "      <td>Ep 1| Travelling through North East India | Of...</td>\n",
       "      <td>Tanya Khanijow\\n671K subscribers\\nSUBSCRIBE\\nT...</td>\n",
       "      <td>travel</td>\n",
       "    </tr>\n",
       "    <tr>\n",
       "      <th>1</th>\n",
       "      <td>i9E_Blai8vk</td>\n",
       "      <td>Welcome to Bali | Travel Vlog | Priscilla Lee</td>\n",
       "      <td>Priscilla Lee\\n45.6K subscribers\\nSUBSCRIBE\\n*...</td>\n",
       "      <td>travel</td>\n",
       "    </tr>\n",
       "    <tr>\n",
       "      <th>2</th>\n",
       "      <td>r284c-q8oY</td>\n",
       "      <td>My Solo Trip to ALASKA | Cruising From Vancouv...</td>\n",
       "      <td>Allison Anderson\\n588K subscribers\\nSUBSCRIBE\\...</td>\n",
       "      <td>travel</td>\n",
       "    </tr>\n",
       "    <tr>\n",
       "      <th>3</th>\n",
       "      <td>Qmi-Xwq-ME</td>\n",
       "      <td>Traveling to the Happiest Country in the World!!</td>\n",
       "      <td>Yes Theory\\n6.65M subscribers\\nSUBSCRIBE\\n*BLA...</td>\n",
       "      <td>travel</td>\n",
       "    </tr>\n",
       "    <tr>\n",
       "      <th>4</th>\n",
       "      <td>_lcOX55Ef70</td>\n",
       "      <td>Solo in Paro Bhutan | Tiger's Nest visit | Bhu...</td>\n",
       "      <td>Tanya Khanijow\\n671K subscribers\\nSUBSCRIBE\\nH...</td>\n",
       "      <td>travel</td>\n",
       "    </tr>\n",
       "  </tbody>\n",
       "</table>\n",
       "</div>"
      ],
      "text/plain": [
       "          link                                              title  \\\n",
       "0      JLZlCZ0  Ep 1| Travelling through North East India | Of...   \n",
       "1  i9E_Blai8vk      Welcome to Bali | Travel Vlog | Priscilla Lee   \n",
       "2   r284c-q8oY  My Solo Trip to ALASKA | Cruising From Vancouv...   \n",
       "3   Qmi-Xwq-ME   Traveling to the Happiest Country in the World!!   \n",
       "4  _lcOX55Ef70  Solo in Paro Bhutan | Tiger's Nest visit | Bhu...   \n",
       "\n",
       "                                         description category  \n",
       "0  Tanya Khanijow\\n671K subscribers\\nSUBSCRIBE\\nT...   travel  \n",
       "1  Priscilla Lee\\n45.6K subscribers\\nSUBSCRIBE\\n*...   travel  \n",
       "2  Allison Anderson\\n588K subscribers\\nSUBSCRIBE\\...   travel  \n",
       "3  Yes Theory\\n6.65M subscribers\\nSUBSCRIBE\\n*BLA...   travel  \n",
       "4  Tanya Khanijow\\n671K subscribers\\nSUBSCRIBE\\nH...   travel  "
      ]
     },
     "execution_count": 2,
     "metadata": {},
     "output_type": "execute_result"
    }
   ],
   "source": [
    "import pandas as pd\n",
    "import re\n",
    "import string\n",
    "\n",
    "youtube = pd.read_csv('youtube.csv', encoding = \"ISO-8859-1\")\n",
    "\n",
    "youtube.head()"
   ]
  },
  {
   "cell_type": "markdown",
   "metadata": {},
   "source": [
    "Cleaning the data"
   ]
  },
  {
   "cell_type": "code",
   "execution_count": 3,
   "metadata": {},
   "outputs": [
    {
     "data": {
      "text/plain": [
       "array(['travel', 'food', 'art_music', 'history'], dtype=object)"
      ]
     },
     "execution_count": 3,
     "metadata": {},
     "output_type": "execute_result"
    }
   ],
   "source": [
    "youtube.category.unique()"
   ]
  },
  {
   "cell_type": "code",
   "execution_count": 4,
   "metadata": {},
   "outputs": [
    {
     "data": {
      "text/html": [
       "<div>\n",
       "<style scoped>\n",
       "    .dataframe tbody tr th:only-of-type {\n",
       "        vertical-align: middle;\n",
       "    }\n",
       "\n",
       "    .dataframe tbody tr th {\n",
       "        vertical-align: top;\n",
       "    }\n",
       "\n",
       "    .dataframe thead th {\n",
       "        text-align: right;\n",
       "    }\n",
       "</style>\n",
       "<table border=\"1\" class=\"dataframe\">\n",
       "  <thead>\n",
       "    <tr style=\"text-align: right;\">\n",
       "      <th></th>\n",
       "      <th>link</th>\n",
       "      <th>title</th>\n",
       "      <th>description</th>\n",
       "      <th>category</th>\n",
       "    </tr>\n",
       "  </thead>\n",
       "  <tbody>\n",
       "    <tr>\n",
       "      <th>count</th>\n",
       "      <td>3599</td>\n",
       "      <td>3599</td>\n",
       "      <td>3599</td>\n",
       "      <td>3599</td>\n",
       "    </tr>\n",
       "    <tr>\n",
       "      <th>unique</th>\n",
       "      <td>3432</td>\n",
       "      <td>3399</td>\n",
       "      <td>3251</td>\n",
       "      <td>4</td>\n",
       "    </tr>\n",
       "    <tr>\n",
       "      <th>top</th>\n",
       "      <td>#NAME?</td>\n",
       "      <td>New Hindi Song 2021 May ð Top Bollywood Rom...</td>\n",
       "      <td>Travel Thirsty\\n6.61M subscribers\\nSUBSCRIBE</td>\n",
       "      <td>travel</td>\n",
       "    </tr>\n",
       "    <tr>\n",
       "      <th>freq</th>\n",
       "      <td>63</td>\n",
       "      <td>24</td>\n",
       "      <td>39</td>\n",
       "      <td>1156</td>\n",
       "    </tr>\n",
       "  </tbody>\n",
       "</table>\n",
       "</div>"
      ],
      "text/plain": [
       "          link                                              title  \\\n",
       "count     3599                                               3599   \n",
       "unique    3432                                               3399   \n",
       "top     #NAME?  New Hindi Song 2021 May ð Top Bollywood Rom...   \n",
       "freq        63                                                 24   \n",
       "\n",
       "                                         description category  \n",
       "count                                           3599     3599  \n",
       "unique                                          3251        4  \n",
       "top     Travel Thirsty\\n6.61M subscribers\\nSUBSCRIBE   travel  \n",
       "freq                                              39     1156  "
      ]
     },
     "execution_count": 4,
     "metadata": {},
     "output_type": "execute_result"
    }
   ],
   "source": [
    "youtube.describe()"
   ]
  },
  {
   "cell_type": "markdown",
   "metadata": {},
   "source": [
    "Preprcessing the data"
   ]
  },
  {
   "cell_type": "code",
   "execution_count": 5,
   "metadata": {},
   "outputs": [
    {
     "data": {
      "text/html": [
       "<div>\n",
       "<style scoped>\n",
       "    .dataframe tbody tr th:only-of-type {\n",
       "        vertical-align: middle;\n",
       "    }\n",
       "\n",
       "    .dataframe tbody tr th {\n",
       "        vertical-align: top;\n",
       "    }\n",
       "\n",
       "    .dataframe thead th {\n",
       "        text-align: right;\n",
       "    }\n",
       "</style>\n",
       "<table border=\"1\" class=\"dataframe\">\n",
       "  <thead>\n",
       "    <tr style=\"text-align: right;\">\n",
       "      <th></th>\n",
       "      <th>link</th>\n",
       "      <th>title</th>\n",
       "      <th>description</th>\n",
       "      <th>category</th>\n",
       "    </tr>\n",
       "  </thead>\n",
       "  <tbody>\n",
       "    <tr>\n",
       "      <th>0</th>\n",
       "      <td>JLZlCZ0</td>\n",
       "      <td>Ep 1| Travelling through North East India | Of...</td>\n",
       "      <td>Tanya Khanijow\\n671K subscribers\\nSUBSCRIBE\\nT...</td>\n",
       "      <td>3</td>\n",
       "    </tr>\n",
       "    <tr>\n",
       "      <th>1</th>\n",
       "      <td>i9E_Blai8vk</td>\n",
       "      <td>Welcome to Bali | Travel Vlog | Priscilla Lee</td>\n",
       "      <td>Priscilla Lee\\n45.6K subscribers\\nSUBSCRIBE\\n*...</td>\n",
       "      <td>3</td>\n",
       "    </tr>\n",
       "    <tr>\n",
       "      <th>2</th>\n",
       "      <td>r284c-q8oY</td>\n",
       "      <td>My Solo Trip to ALASKA | Cruising From Vancouv...</td>\n",
       "      <td>Allison Anderson\\n588K subscribers\\nSUBSCRIBE\\...</td>\n",
       "      <td>3</td>\n",
       "    </tr>\n",
       "    <tr>\n",
       "      <th>3</th>\n",
       "      <td>Qmi-Xwq-ME</td>\n",
       "      <td>Traveling to the Happiest Country in the World!!</td>\n",
       "      <td>Yes Theory\\n6.65M subscribers\\nSUBSCRIBE\\n*BLA...</td>\n",
       "      <td>3</td>\n",
       "    </tr>\n",
       "    <tr>\n",
       "      <th>4</th>\n",
       "      <td>_lcOX55Ef70</td>\n",
       "      <td>Solo in Paro Bhutan | Tiger's Nest visit | Bhu...</td>\n",
       "      <td>Tanya Khanijow\\n671K subscribers\\nSUBSCRIBE\\nH...</td>\n",
       "      <td>3</td>\n",
       "    </tr>\n",
       "    <tr>\n",
       "      <th>...</th>\n",
       "      <td>...</td>\n",
       "      <td>...</td>\n",
       "      <td>...</td>\n",
       "      <td>...</td>\n",
       "    </tr>\n",
       "    <tr>\n",
       "      <th>3594</th>\n",
       "      <td>#NAME?</td>\n",
       "      <td>21st Century Challenges: Crash Course European...</td>\n",
       "      <td>CrashCourse\\n12.4M subscribers\\nSUBSCRIBE\\nThe...</td>\n",
       "      <td>2</td>\n",
       "    </tr>\n",
       "    <tr>\n",
       "      <th>3595</th>\n",
       "      <td>d-2Trw8bCa0</td>\n",
       "      <td>EU DataViz webinar - Barnaby Skinner - How to ...</td>\n",
       "      <td>Publications Office of the European Union\\n3.2...</td>\n",
       "      <td>2</td>\n",
       "    </tr>\n",
       "    <tr>\n",
       "      <th>3596</th>\n",
       "      <td>RCKWarkUL</td>\n",
       "      <td>Stone Age Scandinavia: First People In the Nor...</td>\n",
       "      <td>History Time\\n619K subscribers\\nSUBSCRIBE\\n- W...</td>\n",
       "      <td>2</td>\n",
       "    </tr>\n",
       "    <tr>\n",
       "      <th>3597</th>\n",
       "      <td>MF6F3BxJIY</td>\n",
       "      <td>AP European History - Interwar Period: Paris P...</td>\n",
       "      <td>Mr. Raymond's Civics and Social Studies Academ...</td>\n",
       "      <td>2</td>\n",
       "    </tr>\n",
       "    <tr>\n",
       "      <th>3598</th>\n",
       "      <td>lByKodp_UK</td>\n",
       "      <td>World War 2 Allied Conferences: AP European Hi...</td>\n",
       "      <td>Paul Sargent\\n25.3K subscribers\\nSUBSCRIBE\\nIn...</td>\n",
       "      <td>2</td>\n",
       "    </tr>\n",
       "  </tbody>\n",
       "</table>\n",
       "<p>3599 rows × 4 columns</p>\n",
       "</div>"
      ],
      "text/plain": [
       "             link                                              title  \\\n",
       "0         JLZlCZ0  Ep 1| Travelling through North East India | Of...   \n",
       "1     i9E_Blai8vk      Welcome to Bali | Travel Vlog | Priscilla Lee   \n",
       "2      r284c-q8oY  My Solo Trip to ALASKA | Cruising From Vancouv...   \n",
       "3      Qmi-Xwq-ME   Traveling to the Happiest Country in the World!!   \n",
       "4     _lcOX55Ef70  Solo in Paro Bhutan | Tiger's Nest visit | Bhu...   \n",
       "...           ...                                                ...   \n",
       "3594       #NAME?  21st Century Challenges: Crash Course European...   \n",
       "3595  d-2Trw8bCa0  EU DataViz webinar - Barnaby Skinner - How to ...   \n",
       "3596    RCKWarkUL  Stone Age Scandinavia: First People In the Nor...   \n",
       "3597   MF6F3BxJIY  AP European History - Interwar Period: Paris P...   \n",
       "3598   lByKodp_UK  World War 2 Allied Conferences: AP European Hi...   \n",
       "\n",
       "                                            description  category  \n",
       "0     Tanya Khanijow\\n671K subscribers\\nSUBSCRIBE\\nT...         3  \n",
       "1     Priscilla Lee\\n45.6K subscribers\\nSUBSCRIBE\\n*...         3  \n",
       "2     Allison Anderson\\n588K subscribers\\nSUBSCRIBE\\...         3  \n",
       "3     Yes Theory\\n6.65M subscribers\\nSUBSCRIBE\\n*BLA...         3  \n",
       "4     Tanya Khanijow\\n671K subscribers\\nSUBSCRIBE\\nH...         3  \n",
       "...                                                 ...       ...  \n",
       "3594  CrashCourse\\n12.4M subscribers\\nSUBSCRIBE\\nThe...         2  \n",
       "3595  Publications Office of the European Union\\n3.2...         2  \n",
       "3596  History Time\\n619K subscribers\\nSUBSCRIBE\\n- W...         2  \n",
       "3597  Mr. Raymond's Civics and Social Studies Academ...         2  \n",
       "3598  Paul Sargent\\n25.3K subscribers\\nSUBSCRIBE\\nIn...         2  \n",
       "\n",
       "[3599 rows x 4 columns]"
      ]
     },
     "execution_count": 5,
     "metadata": {},
     "output_type": "execute_result"
    }
   ],
   "source": [
    "from sklearn import preprocessing\n",
    " \n",
    "# label_encoder object knows how to understand word labels.\n",
    "label_encoder = preprocessing.LabelEncoder()\n",
    " \n",
    "# Encode labels in column 'species'.\n",
    "youtube['category']= label_encoder.fit_transform(youtube['category'])\n",
    "youtube\n",
    "                                 "
   ]
  },
  {
   "cell_type": "code",
   "execution_count": 6,
   "metadata": {},
   "outputs": [],
   "source": [
    "#Making sure that all the inconsistencies are taken care of in every row of the dataset. \n",
    "def clean_text(text):\n",
    "    text = text.lower()\n",
    "    text = re.sub('\\[.*?\\]', '', text)\n",
    "    text = re.sub('[%s]' %re.escape(string.punctuation), '', text)\n",
    "    text = re.sub('\\w*\\d\\w*', '', text)\n",
    "    text = re.sub('[0-9\" \"]+', \" \", text)\n",
    "    text = re.sub('[''\"\"...]', '', text)\n",
    "    text = re.sub('\\n', \" \", text)\n",
    "    return text\n",
    "\n",
    "clean = lambda x: clean_text(x)"
   ]
  },
  {
   "cell_type": "code",
   "execution_count": 7,
   "metadata": {},
   "outputs": [],
   "source": [
    "youtube['description'] = youtube.description.apply(clean)\n",
    "\n",
    "youtube['title'] = youtube.title.apply(clean)\n"
   ]
  },
  {
   "cell_type": "code",
   "execution_count": 8,
   "metadata": {},
   "outputs": [
    {
     "data": {
      "text/html": [
       "<div>\n",
       "<style scoped>\n",
       "    .dataframe tbody tr th:only-of-type {\n",
       "        vertical-align: middle;\n",
       "    }\n",
       "\n",
       "    .dataframe tbody tr th {\n",
       "        vertical-align: top;\n",
       "    }\n",
       "\n",
       "    .dataframe thead th {\n",
       "        text-align: right;\n",
       "    }\n",
       "</style>\n",
       "<table border=\"1\" class=\"dataframe\">\n",
       "  <thead>\n",
       "    <tr style=\"text-align: right;\">\n",
       "      <th></th>\n",
       "      <th>link</th>\n",
       "      <th>title</th>\n",
       "      <th>description</th>\n",
       "      <th>category</th>\n",
       "    </tr>\n",
       "  </thead>\n",
       "  <tbody>\n",
       "    <tr>\n",
       "      <th>0</th>\n",
       "      <td>JLZlCZ0</td>\n",
       "      <td>ep travelling through north east india off to ...</td>\n",
       "      <td>tanya khanijow  subscribers subscribe the jour...</td>\n",
       "      <td>3</td>\n",
       "    </tr>\n",
       "    <tr>\n",
       "      <th>1</th>\n",
       "      <td>i9E_Blai8vk</td>\n",
       "      <td>welcome to bali travel vlog priscilla lee</td>\n",
       "      <td>priscilla lee  subscribers subscribe disclaime...</td>\n",
       "      <td>3</td>\n",
       "    </tr>\n",
       "    <tr>\n",
       "      <th>2</th>\n",
       "      <td>r284c-q8oY</td>\n",
       "      <td>my solo trip to alaska cruising from vancouver...</td>\n",
       "      <td>allison anderson  subscribers subscribe i spen...</td>\n",
       "      <td>3</td>\n",
       "    </tr>\n",
       "    <tr>\n",
       "      <th>3</th>\n",
       "      <td>Qmi-Xwq-ME</td>\n",
       "      <td>traveling to the happiest country in the world</td>\n",
       "      <td>yes theory  subscribers subscribe black friday...</td>\n",
       "      <td>3</td>\n",
       "    </tr>\n",
       "    <tr>\n",
       "      <th>4</th>\n",
       "      <td>_lcOX55Ef70</td>\n",
       "      <td>solo in paro bhutan tigers nest visit bhutan t...</td>\n",
       "      <td>tanya khanijow  subscribers subscribe hereâs...</td>\n",
       "      <td>3</td>\n",
       "    </tr>\n",
       "  </tbody>\n",
       "</table>\n",
       "</div>"
      ],
      "text/plain": [
       "          link                                              title  \\\n",
       "0      JLZlCZ0  ep travelling through north east india off to ...   \n",
       "1  i9E_Blai8vk          welcome to bali travel vlog priscilla lee   \n",
       "2   r284c-q8oY  my solo trip to alaska cruising from vancouver...   \n",
       "3   Qmi-Xwq-ME     traveling to the happiest country in the world   \n",
       "4  _lcOX55Ef70  solo in paro bhutan tigers nest visit bhutan t...   \n",
       "\n",
       "                                         description  category  \n",
       "0  tanya khanijow  subscribers subscribe the jour...         3  \n",
       "1  priscilla lee  subscribers subscribe disclaime...         3  \n",
       "2  allison anderson  subscribers subscribe i spen...         3  \n",
       "3  yes theory  subscribers subscribe black friday...         3  \n",
       "4  tanya khanijow  subscribers subscribe hereâs...         3  "
      ]
     },
     "execution_count": 8,
     "metadata": {},
     "output_type": "execute_result"
    }
   ],
   "source": [
    "youtube.head()"
   ]
  },
  {
   "cell_type": "markdown",
   "metadata": {},
   "source": [
    "Getting the top used words in our feature columns."
   ]
  },
  {
   "cell_type": "code",
   "execution_count": 9,
   "metadata": {},
   "outputs": [
    {
     "name": "stdout",
     "output_type": "stream",
     "text": [
      "in         1021\n",
      "food        947\n",
      "songs       899\n",
      "indian      717\n",
      "history     530\n",
      "of          530\n",
      "the         510\n",
      "vlog        443\n",
      "germany     437\n",
      "travel      432\n",
      "dtype: int64\n",
      "the            7204\n",
      "and            4898\n",
      "to             4590\n",
      "subscribe      4381\n",
      "of             4159\n",
      "more           3963\n",
      "in             3948\n",
      "show           3406\n",
      "subscribers    3071\n",
      "a              2939\n",
      "dtype: int64\n"
     ]
    }
   ],
   "source": [
    "word_freq_title = pd.Series(\" \".join(youtube['title']).split()).value_counts()[:10]\n",
    "\n",
    "word_freq_description = pd.Series(' '.join(youtube['description']).split()).value_counts()[:10]\n",
    "\n",
    "print(word_freq_title)\n",
    "print(word_freq_description)"
   ]
  },
  {
   "cell_type": "markdown",
   "metadata": {},
   "source": [
    "Stopwards"
   ]
  },
  {
   "cell_type": "code",
   "execution_count": 10,
   "metadata": {},
   "outputs": [
    {
     "data": {
      "text/html": [
       "<div>\n",
       "<style scoped>\n",
       "    .dataframe tbody tr th:only-of-type {\n",
       "        vertical-align: middle;\n",
       "    }\n",
       "\n",
       "    .dataframe tbody tr th {\n",
       "        vertical-align: top;\n",
       "    }\n",
       "\n",
       "    .dataframe thead th {\n",
       "        text-align: right;\n",
       "    }\n",
       "</style>\n",
       "<table border=\"1\" class=\"dataframe\">\n",
       "  <thead>\n",
       "    <tr style=\"text-align: right;\">\n",
       "      <th></th>\n",
       "      <th>link</th>\n",
       "      <th>title</th>\n",
       "      <th>description</th>\n",
       "      <th>category</th>\n",
       "    </tr>\n",
       "  </thead>\n",
       "  <tbody>\n",
       "    <tr>\n",
       "      <th>0</th>\n",
       "      <td>JLZlCZ0</td>\n",
       "      <td>ep travelling north east india arunachal journ...</td>\n",
       "      <td>tanya khanijow subscribers subscribe journey a...</td>\n",
       "      <td>3</td>\n",
       "    </tr>\n",
       "    <tr>\n",
       "      <th>1</th>\n",
       "      <td>i9E_Blai8vk</td>\n",
       "      <td>welcome bali travel vlog priscilla lee</td>\n",
       "      <td>priscilla lee subscribers subscribe disclaimer...</td>\n",
       "      <td>3</td>\n",
       "    </tr>\n",
       "    <tr>\n",
       "      <th>2</th>\n",
       "      <td>r284c-q8oY</td>\n",
       "      <td>solo trip alaska cruising vancouver anchorage</td>\n",
       "      <td>allison anderson subscribers subscribe spent d...</td>\n",
       "      <td>3</td>\n",
       "    </tr>\n",
       "    <tr>\n",
       "      <th>3</th>\n",
       "      <td>Qmi-Xwq-ME</td>\n",
       "      <td>traveling happiest country world</td>\n",
       "      <td>yes theory subscribers subscribe black friday ...</td>\n",
       "      <td>3</td>\n",
       "    </tr>\n",
       "    <tr>\n",
       "      <th>4</th>\n",
       "      <td>_lcOX55Ef70</td>\n",
       "      <td>solo paro bhutan tigers nest visit bhutan trav...</td>\n",
       "      <td>tanya khanijow subscribers subscribe hereâs ...</td>\n",
       "      <td>3</td>\n",
       "    </tr>\n",
       "  </tbody>\n",
       "</table>\n",
       "</div>"
      ],
      "text/plain": [
       "          link                                              title  \\\n",
       "0      JLZlCZ0  ep travelling north east india arunachal journ...   \n",
       "1  i9E_Blai8vk             welcome bali travel vlog priscilla lee   \n",
       "2   r284c-q8oY      solo trip alaska cruising vancouver anchorage   \n",
       "3   Qmi-Xwq-ME                   traveling happiest country world   \n",
       "4  _lcOX55Ef70  solo paro bhutan tigers nest visit bhutan trav...   \n",
       "\n",
       "                                         description  category  \n",
       "0  tanya khanijow subscribers subscribe journey a...         3  \n",
       "1  priscilla lee subscribers subscribe disclaimer...         3  \n",
       "2  allison anderson subscribers subscribe spent d...         3  \n",
       "3  yes theory subscribers subscribe black friday ...         3  \n",
       "4  tanya khanijow subscribers subscribe hereâs ...         3  "
      ]
     },
     "execution_count": 10,
     "metadata": {},
     "output_type": "execute_result"
    }
   ],
   "source": [
    "from nltk.corpus import stopwords\n",
    "\n",
    "stop = stopwords.words('english')\n",
    "\n",
    "youtube['title'] = youtube['title'].apply(lambda x: ' '.join(x for x in x.split() if x not in stop))\n",
    "\n",
    "youtube['description'] = youtube['description'].apply(lambda x: ' '.join(x for x in x.split() if x not in stop))\n",
    "\n",
    "youtube.head()"
   ]
  },
  {
   "cell_type": "markdown",
   "metadata": {},
   "source": [
    "Word Frequency with Stopword removal "
   ]
  },
  {
   "cell_type": "code",
   "execution_count": 11,
   "metadata": {},
   "outputs": [
    {
     "name": "stdout",
     "output_type": "stream",
     "text": [
      "food       947\n",
      "songs      899\n",
      "indian     717\n",
      "history    530\n",
      "vlog       443\n",
      "germany    437\n",
      "travel     432\n",
      "best       421\n",
      "new        385\n",
      "music      371\n",
      "dtype: int64\n",
      "subscribe      4381\n",
      "show           3406\n",
      "subscribers    3071\n",
      "songs          2073\n",
      "video          1449\n",
      "food           1428\n",
      "hindi          1386\n",
      "music          1324\n",
      "travel         1232\n",
      "song           1128\n",
      "dtype: int64\n"
     ]
    }
   ],
   "source": [
    "word_freq_t_2 = pd.Series(\" \".join(youtube['title']).split()).value_counts()[:10]\n",
    "\n",
    "word_freq_d_2 = pd.Series(\" \".join(youtube['description']).split()).value_counts()[:10]\n",
    "\n",
    "print(word_freq_t_2)\n",
    "\n",
    "print(word_freq_d_2)"
   ]
  },
  {
   "cell_type": "markdown",
   "metadata": {},
   "source": [
    "N-grams"
   ]
  },
  {
   "cell_type": "code",
   "execution_count": 12,
   "metadata": {},
   "outputs": [],
   "source": [
    "from sklearn.feature_extraction.text import CountVectorizer\n",
    "def bi_gram_func(corpus, n=None):\n",
    "    vec = CountVectorizer(ngram_range=(2,2), max_features=1000).fit(corpus)\n",
    "    bow = vec.transform(corpus)\n",
    "    sum_words = bow.sum(axis=0)\n",
    "    word_freq = [(word, sum_words[0,idx]) for word,idx in vec.vocabulary_.items()]\n",
    "    word_freq = sorted(word_freq, key= lambda x: x[1], reverse=True)\n",
    "    return word_freq[:n]"
   ]
  },
  {
   "cell_type": "markdown",
   "metadata": {},
   "source": [
    "Bi-grams"
   ]
  },
  {
   "cell_type": "code",
   "execution_count": 13,
   "metadata": {},
   "outputs": [
    {
     "data": {
      "text/html": [
       "<div>\n",
       "<style scoped>\n",
       "    .dataframe tbody tr th:only-of-type {\n",
       "        vertical-align: middle;\n",
       "    }\n",
       "\n",
       "    .dataframe tbody tr th {\n",
       "        vertical-align: top;\n",
       "    }\n",
       "\n",
       "    .dataframe thead th {\n",
       "        text-align: right;\n",
       "    }\n",
       "</style>\n",
       "<table border=\"1\" class=\"dataframe\">\n",
       "  <thead>\n",
       "    <tr style=\"text-align: right;\">\n",
       "      <th></th>\n",
       "      <th>bi_grams</th>\n",
       "      <th>Frequency</th>\n",
       "    </tr>\n",
       "  </thead>\n",
       "  <tbody>\n",
       "    <tr>\n",
       "      <th>0</th>\n",
       "      <td>indian food</td>\n",
       "      <td>273</td>\n",
       "    </tr>\n",
       "    <tr>\n",
       "      <th>1</th>\n",
       "      <td>pop music</td>\n",
       "      <td>217</td>\n",
       "    </tr>\n",
       "    <tr>\n",
       "      <th>2</th>\n",
       "      <td>street food</td>\n",
       "      <td>207</td>\n",
       "    </tr>\n",
       "    <tr>\n",
       "      <th>3</th>\n",
       "      <td>english songs</td>\n",
       "      <td>196</td>\n",
       "    </tr>\n",
       "    <tr>\n",
       "      <th>4</th>\n",
       "      <td>japanese food</td>\n",
       "      <td>143</td>\n",
       "    </tr>\n",
       "    <tr>\n",
       "      <th>5</th>\n",
       "      <td>european history</td>\n",
       "      <td>101</td>\n",
       "    </tr>\n",
       "    <tr>\n",
       "      <th>6</th>\n",
       "      <td>travel vlog</td>\n",
       "      <td>98</td>\n",
       "    </tr>\n",
       "    <tr>\n",
       "      <th>7</th>\n",
       "      <td>travel blogs</td>\n",
       "      <td>97</td>\n",
       "    </tr>\n",
       "    <tr>\n",
       "      <th>8</th>\n",
       "      <td>à² à²</td>\n",
       "      <td>97</td>\n",
       "    </tr>\n",
       "    <tr>\n",
       "      <th>9</th>\n",
       "      <td>songs best</td>\n",
       "      <td>97</td>\n",
       "    </tr>\n",
       "    <tr>\n",
       "      <th>10</th>\n",
       "      <td>new song</td>\n",
       "      <td>95</td>\n",
       "    </tr>\n",
       "    <tr>\n",
       "      <th>11</th>\n",
       "      <td>indian history</td>\n",
       "      <td>89</td>\n",
       "    </tr>\n",
       "  </tbody>\n",
       "</table>\n",
       "</div>"
      ],
      "text/plain": [
       "            bi_grams  Frequency\n",
       "0        indian food        273\n",
       "1          pop music        217\n",
       "2        street food        207\n",
       "3      english songs        196\n",
       "4      japanese food        143\n",
       "5   european history        101\n",
       "6        travel vlog         98\n",
       "7       travel blogs         97\n",
       "8              à² à²         97\n",
       "9         songs best         97\n",
       "10          new song         95\n",
       "11    indian history         89"
      ]
     },
     "execution_count": 13,
     "metadata": {},
     "output_type": "execute_result"
    }
   ],
   "source": [
    "top_2_words = bi_gram_func(youtube['title'], n=200)\n",
    "top_2_words = pd.DataFrame(top_2_words)\n",
    "top_2_words.columns=('bi_grams','Frequency')\n",
    "top_2_words[:12]"
   ]
  },
  {
   "cell_type": "code",
   "execution_count": 14,
   "metadata": {},
   "outputs": [
    {
     "data": {
      "text/html": [
       "<div>\n",
       "<style scoped>\n",
       "    .dataframe tbody tr th:only-of-type {\n",
       "        vertical-align: middle;\n",
       "    }\n",
       "\n",
       "    .dataframe tbody tr th {\n",
       "        vertical-align: top;\n",
       "    }\n",
       "\n",
       "    .dataframe thead th {\n",
       "        text-align: right;\n",
       "    }\n",
       "</style>\n",
       "<table border=\"1\" class=\"dataframe\">\n",
       "  <thead>\n",
       "    <tr style=\"text-align: right;\">\n",
       "      <th></th>\n",
       "      <th>bi_grams</th>\n",
       "      <th>Frequency</th>\n",
       "    </tr>\n",
       "  </thead>\n",
       "  <tbody>\n",
       "    <tr>\n",
       "      <th>0</th>\n",
       "      <td>subscribers subscribe</td>\n",
       "      <td>2813</td>\n",
       "    </tr>\n",
       "    <tr>\n",
       "      <th>1</th>\n",
       "      <td>indian food</td>\n",
       "      <td>358</td>\n",
       "    </tr>\n",
       "    <tr>\n",
       "      <th>2</th>\n",
       "      <td>¾à ¾à</td>\n",
       "      <td>275</td>\n",
       "    </tr>\n",
       "    <tr>\n",
       "      <th>3</th>\n",
       "      <td>pop music</td>\n",
       "      <td>265</td>\n",
       "    </tr>\n",
       "    <tr>\n",
       "      <th>4</th>\n",
       "      <td>english songs</td>\n",
       "      <td>260</td>\n",
       "    </tr>\n",
       "    <tr>\n",
       "      <th>5</th>\n",
       "      <td>travel vlog</td>\n",
       "      <td>249</td>\n",
       "    </tr>\n",
       "    <tr>\n",
       "      <th>6</th>\n",
       "      <td>street food</td>\n",
       "      <td>248</td>\n",
       "    </tr>\n",
       "    <tr>\n",
       "      <th>7</th>\n",
       "      <td>join subscribe</td>\n",
       "      <td>241</td>\n",
       "    </tr>\n",
       "    <tr>\n",
       "      <th>8</th>\n",
       "      <td>subscribers join</td>\n",
       "      <td>240</td>\n",
       "    </tr>\n",
       "    <tr>\n",
       "      <th>9</th>\n",
       "      <td>song hindi</td>\n",
       "      <td>229</td>\n",
       "    </tr>\n",
       "    <tr>\n",
       "      <th>10</th>\n",
       "      <td>hindi songs</td>\n",
       "      <td>225</td>\n",
       "    </tr>\n",
       "    <tr>\n",
       "      <th>11</th>\n",
       "      <td>¾à ¹à</td>\n",
       "      <td>214</td>\n",
       "    </tr>\n",
       "  </tbody>\n",
       "</table>\n",
       "</div>"
      ],
      "text/plain": [
       "                 bi_grams  Frequency\n",
       "0   subscribers subscribe       2813\n",
       "1             indian food        358\n",
       "2                   ¾à ¾à        275\n",
       "3               pop music        265\n",
       "4           english songs        260\n",
       "5             travel vlog        249\n",
       "6             street food        248\n",
       "7          join subscribe        241\n",
       "8        subscribers join        240\n",
       "9              song hindi        229\n",
       "10            hindi songs        225\n",
       "11                  ¾à ¹à        214"
      ]
     },
     "execution_count": 14,
     "metadata": {},
     "output_type": "execute_result"
    }
   ],
   "source": [
    "top_2_words = bi_gram_func(youtube['description'], n=200)\n",
    "top_2_words = pd.DataFrame(top_2_words)\n",
    "top_2_words.columns=('bi_grams','Frequency')\n",
    "top_2_words[:12]"
   ]
  },
  {
   "cell_type": "markdown",
   "metadata": {},
   "source": [
    "Visualizing our bigrams."
   ]
  },
  {
   "cell_type": "code",
   "execution_count": 15,
   "metadata": {},
   "outputs": [
    {
     "data": {
      "text/plain": [
       "[Text(0, 0, 'subscribers subscribe'),\n",
       " Text(1, 0, 'indian food'),\n",
       " Text(2, 0, '¾à ¾à'),\n",
       " Text(3, 0, 'pop music'),\n",
       " Text(4, 0, 'english songs'),\n",
       " Text(5, 0, 'travel vlog'),\n",
       " Text(6, 0, 'street food'),\n",
       " Text(7, 0, 'join subscribe'),\n",
       " Text(8, 0, 'subscribers join'),\n",
       " Text(9, 0, 'song hindi')]"
      ]
     },
     "execution_count": 15,
     "metadata": {},
     "output_type": "execute_result"
    },
    {
     "data": {
      "image/png": "[encoded data removed]",
      "text/plain": [
       "<Figure size 1008x432 with 1 Axes>"
      ]
     },
     "metadata": {
      "needs_background": "light"
     },
     "output_type": "display_data"
    }
   ],
   "source": [
    "import matplotlib.pyplot as plt\n",
    "import seaborn as sns\n",
    "\n",
    "top_10_bigrams = top_2_words.iloc[0:10,:]\n",
    "\n",
    "fig = plt.figure(figsize=(14,6))\n",
    "plot = sns.barplot(x=top_10_bigrams['bi_grams'], y=top_10_bigrams['Frequency'])\n",
    "plot.set_xticklabels(rotation = 45, labels = top_10_bigrams['bi_grams'])"
   ]
  },
  {
   "cell_type": "markdown",
   "metadata": {},
   "source": [
    "Tri-grams"
   ]
  },
  {
   "cell_type": "code",
   "execution_count": 16,
   "metadata": {},
   "outputs": [],
   "source": [
    "def tri_grams(corpus, n=None):\n",
    "    vec2 = CountVectorizer(ngram_range=(3,3), max_features=1000).fit(corpus)\n",
    "    bow = vec2.transform(corpus)\n",
    "    sum_words = bow.sum(axis=0)\n",
    "    word_count = [(word, sum_words[0,idx]) for word, idx in vec2.vocabulary_.items()]\n",
    "    word_count = sorted(word_count, key = lambda x: x[1], reverse=True)\n",
    "    return word_count[:n]"
   ]
  },
  {
   "cell_type": "code",
   "execution_count": 17,
   "metadata": {},
   "outputs": [
    {
     "data": {
      "text/html": [
       "<div>\n",
       "<style scoped>\n",
       "    .dataframe tbody tr th:only-of-type {\n",
       "        vertical-align: middle;\n",
       "    }\n",
       "\n",
       "    .dataframe tbody tr th {\n",
       "        vertical-align: top;\n",
       "    }\n",
       "\n",
       "    .dataframe thead th {\n",
       "        text-align: right;\n",
       "    }\n",
       "</style>\n",
       "<table border=\"1\" class=\"dataframe\">\n",
       "  <thead>\n",
       "    <tr style=\"text-align: right;\">\n",
       "      <th></th>\n",
       "      <th>tri_grams</th>\n",
       "      <th>frequency</th>\n",
       "    </tr>\n",
       "  </thead>\n",
       "  <tbody>\n",
       "    <tr>\n",
       "      <th>0</th>\n",
       "      <td>latest english songs</td>\n",
       "      <td>74</td>\n",
       "    </tr>\n",
       "    <tr>\n",
       "      <th>1</th>\n",
       "      <td>pop music new</td>\n",
       "      <td>67</td>\n",
       "    </tr>\n",
       "    <tr>\n",
       "      <th>2</th>\n",
       "      <td>music new song</td>\n",
       "      <td>63</td>\n",
       "    </tr>\n",
       "    <tr>\n",
       "      <th>3</th>\n",
       "      <td>english songs pop</td>\n",
       "      <td>60</td>\n",
       "    </tr>\n",
       "    <tr>\n",
       "      <th>4</th>\n",
       "      <td>indian street food</td>\n",
       "      <td>56</td>\n",
       "    </tr>\n",
       "    <tr>\n",
       "      <th>5</th>\n",
       "      <td>songs pop music</td>\n",
       "      <td>54</td>\n",
       "    </tr>\n",
       "    <tr>\n",
       "      <th>6</th>\n",
       "      <td>best pop music</td>\n",
       "      <td>54</td>\n",
       "    </tr>\n",
       "    <tr>\n",
       "      <th>7</th>\n",
       "      <td>à² à² à²</td>\n",
       "      <td>52</td>\n",
       "    </tr>\n",
       "    <tr>\n",
       "      <th>8</th>\n",
       "      <td>japanese street food</td>\n",
       "      <td>52</td>\n",
       "    </tr>\n",
       "    <tr>\n",
       "      <th>9</th>\n",
       "      <td>new songs latest</td>\n",
       "      <td>52</td>\n",
       "    </tr>\n",
       "    <tr>\n",
       "      <th>10</th>\n",
       "      <td>songs latest english</td>\n",
       "      <td>52</td>\n",
       "    </tr>\n",
       "    <tr>\n",
       "      <th>11</th>\n",
       "      <td>crash course european</td>\n",
       "      <td>50</td>\n",
       "    </tr>\n",
       "    <tr>\n",
       "      <th>12</th>\n",
       "      <td>course european history</td>\n",
       "      <td>50</td>\n",
       "    </tr>\n",
       "  </tbody>\n",
       "</table>\n",
       "</div>"
      ],
      "text/plain": [
       "                  tri_grams  frequency\n",
       "0      latest english songs         74\n",
       "1             pop music new         67\n",
       "2            music new song         63\n",
       "3         english songs pop         60\n",
       "4        indian street food         56\n",
       "5           songs pop music         54\n",
       "6            best pop music         54\n",
       "7                  à² à² à²         52\n",
       "8      japanese street food         52\n",
       "9          new songs latest         52\n",
       "10     songs latest english         52\n",
       "11    crash course european         50\n",
       "12  course european history         50"
      ]
     },
     "execution_count": 17,
     "metadata": {},
     "output_type": "execute_result"
    }
   ],
   "source": [
    "\n",
    "tri_top_10 = tri_grams(youtube['title'], n=200)\n",
    "tri_top_10 = pd.DataFrame(tri_top_10)\n",
    "tri_top_10.columns = ('tri_grams', 'frequency')\n",
    "tri_top_10[:13]"
   ]
  },
  {
   "cell_type": "code",
   "execution_count": 18,
   "metadata": {},
   "outputs": [
    {
     "data": {
      "text/html": [
       "<div>\n",
       "<style scoped>\n",
       "    .dataframe tbody tr th:only-of-type {\n",
       "        vertical-align: middle;\n",
       "    }\n",
       "\n",
       "    .dataframe tbody tr th {\n",
       "        vertical-align: top;\n",
       "    }\n",
       "\n",
       "    .dataframe thead th {\n",
       "        text-align: right;\n",
       "    }\n",
       "</style>\n",
       "<table border=\"1\" class=\"dataframe\">\n",
       "  <thead>\n",
       "    <tr style=\"text-align: right;\">\n",
       "      <th></th>\n",
       "      <th>tri_grams</th>\n",
       "      <th>frequency</th>\n",
       "    </tr>\n",
       "  </thead>\n",
       "  <tbody>\n",
       "    <tr>\n",
       "      <th>0</th>\n",
       "      <td>subscribers join subscribe</td>\n",
       "      <td>240</td>\n",
       "    </tr>\n",
       "    <tr>\n",
       "      <th>1</th>\n",
       "      <td>¼â ¼â ¼â</td>\n",
       "      <td>193</td>\n",
       "    </tr>\n",
       "    <tr>\n",
       "      <th>2</th>\n",
       "      <td>bollywood hits songs</td>\n",
       "      <td>112</td>\n",
       "    </tr>\n",
       "    <tr>\n",
       "      <th>3</th>\n",
       "      <td>dhum tara dhum</td>\n",
       "      <td>100</td>\n",
       "    </tr>\n",
       "    <tr>\n",
       "      <th>4</th>\n",
       "      <td>tara dhum tara</td>\n",
       "      <td>100</td>\n",
       "    </tr>\n",
       "    <tr>\n",
       "      <th>5</th>\n",
       "      <td>vlogs subscribers subscribe</td>\n",
       "      <td>96</td>\n",
       "    </tr>\n",
       "    <tr>\n",
       "      <th>6</th>\n",
       "      <td>¾à ¹à ¾à</td>\n",
       "      <td>89</td>\n",
       "    </tr>\n",
       "    <tr>\n",
       "      <th>7</th>\n",
       "      <td>best pop music</td>\n",
       "      <td>87</td>\n",
       "    </tr>\n",
       "    <tr>\n",
       "      <th>8</th>\n",
       "      <td>latest english songs</td>\n",
       "      <td>86</td>\n",
       "    </tr>\n",
       "    <tr>\n",
       "      <th>9</th>\n",
       "      <td>new hindi song</td>\n",
       "      <td>86</td>\n",
       "    </tr>\n",
       "    <tr>\n",
       "      <th>10</th>\n",
       "      <td>music subscribers subscribe</td>\n",
       "      <td>85</td>\n",
       "    </tr>\n",
       "    <tr>\n",
       "      <th>11</th>\n",
       "      <td>dont forget like</td>\n",
       "      <td>84</td>\n",
       "    </tr>\n",
       "    <tr>\n",
       "      <th>12</th>\n",
       "      <td>pop music playlist</td>\n",
       "      <td>83</td>\n",
       "    </tr>\n",
       "  </tbody>\n",
       "</table>\n",
       "</div>"
      ],
      "text/plain": [
       "                      tri_grams  frequency\n",
       "0    subscribers join subscribe        240\n",
       "1                      ¼â ¼â ¼â        193\n",
       "2          bollywood hits songs        112\n",
       "3                dhum tara dhum        100\n",
       "4                tara dhum tara        100\n",
       "5   vlogs subscribers subscribe         96\n",
       "6                      ¾à ¹à ¾à         89\n",
       "7                best pop music         87\n",
       "8          latest english songs         86\n",
       "9                new hindi song         86\n",
       "10  music subscribers subscribe         85\n",
       "11             dont forget like         84\n",
       "12           pop music playlist         83"
      ]
     },
     "execution_count": 18,
     "metadata": {},
     "output_type": "execute_result"
    }
   ],
   "source": [
    "tri_top_10 = tri_grams(youtube['description'], n=200)\n",
    "tri_top_10 = pd.DataFrame(tri_top_10)\n",
    "tri_top_10.columns = ('tri_grams', 'frequency')\n",
    "tri_top_10[:13]"
   ]
  },
  {
   "cell_type": "markdown",
   "metadata": {},
   "source": [
    "Visualizing Tri-grams"
   ]
  },
  {
   "cell_type": "code",
   "execution_count": 19,
   "metadata": {},
   "outputs": [
    {
     "data": {
      "text/plain": [
       "[Text(0, 0, 'subscribers join subscribe'),\n",
       " Text(1, 0, '¼â ¼â ¼â'),\n",
       " Text(2, 0, 'bollywood hits songs'),\n",
       " Text(3, 0, 'dhum tara dhum'),\n",
       " Text(4, 0, 'tara dhum tara'),\n",
       " Text(5, 0, 'vlogs subscribers subscribe'),\n",
       " Text(6, 0, '¾à ¹à ¾à'),\n",
       " Text(7, 0, 'best pop music'),\n",
       " Text(8, 0, 'latest english songs'),\n",
       " Text(9, 0, 'new hindi song')]"
      ]
     },
     "execution_count": 19,
     "metadata": {},
     "output_type": "execute_result"
    },
    {
     "data": {
      "image/png": "[encoded data removed]",
      "text/plain": [
       "<Figure size 1080x360 with 1 Axes>"
      ]
     },
     "metadata": {
      "needs_background": "light"
     },
     "output_type": "display_data"
    }
   ],
   "source": [
    "tri_gram_graph = tri_top_10.iloc[:10,:]\n",
    "\n",
    "fig = plt.figure(figsize = (15,5))\n",
    "plot = sns.barplot(x=tri_gram_graph['tri_grams'], y=tri_gram_graph['frequency'])\n",
    "plot.set_xticklabels(rotation=45, labels = tri_gram_graph['tri_grams'])"
   ]
  },
  {
   "cell_type": "markdown",
   "metadata": {},
   "source": [
    "Four-Grams"
   ]
  },
  {
   "cell_type": "code",
   "execution_count": 20,
   "metadata": {},
   "outputs": [],
   "source": [
    "def four_grams(corpus, n=None):\n",
    "    vec2 = CountVectorizer(ngram_range=(4,4), max_features=1000).fit(corpus)\n",
    "    bow = vec2.transform(corpus)\n",
    "    sum_words = bow.sum(axis=0)\n",
    "    word_count = [(word, sum_words[0,idx]) for word, idx in vec2.vocabulary_.items()]\n",
    "    word_count = sorted(word_count, key = lambda x: x[1], reverse=True)\n",
    "    return word_count[:n]"
   ]
  },
  {
   "cell_type": "code",
   "execution_count": 21,
   "metadata": {},
   "outputs": [
    {
     "data": {
      "text/html": [
       "<div>\n",
       "<style scoped>\n",
       "    .dataframe tbody tr th:only-of-type {\n",
       "        vertical-align: middle;\n",
       "    }\n",
       "\n",
       "    .dataframe tbody tr th {\n",
       "        vertical-align: top;\n",
       "    }\n",
       "\n",
       "    .dataframe thead th {\n",
       "        text-align: right;\n",
       "    }\n",
       "</style>\n",
       "<table border=\"1\" class=\"dataframe\">\n",
       "  <thead>\n",
       "    <tr style=\"text-align: right;\">\n",
       "      <th></th>\n",
       "      <th>four_grams</th>\n",
       "      <th>frequency</th>\n",
       "    </tr>\n",
       "  </thead>\n",
       "  <tbody>\n",
       "    <tr>\n",
       "      <th>0</th>\n",
       "      <td>pop music new song</td>\n",
       "      <td>63</td>\n",
       "    </tr>\n",
       "    <tr>\n",
       "      <th>1</th>\n",
       "      <td>latest english songs pop</td>\n",
       "      <td>57</td>\n",
       "    </tr>\n",
       "    <tr>\n",
       "      <th>2</th>\n",
       "      <td>english songs pop music</td>\n",
       "      <td>53</td>\n",
       "    </tr>\n",
       "    <tr>\n",
       "      <th>3</th>\n",
       "      <td>songs pop music new</td>\n",
       "      <td>53</td>\n",
       "    </tr>\n",
       "    <tr>\n",
       "      <th>4</th>\n",
       "      <td>new songs latest english</td>\n",
       "      <td>52</td>\n",
       "    </tr>\n",
       "    <tr>\n",
       "      <th>5</th>\n",
       "      <td>songs latest english songs</td>\n",
       "      <td>51</td>\n",
       "    </tr>\n",
       "    <tr>\n",
       "      <th>6</th>\n",
       "      <td>crash course european history</td>\n",
       "      <td>50</td>\n",
       "    </tr>\n",
       "    <tr>\n",
       "      <th>7</th>\n",
       "      <td>bollywood romantic love songs</td>\n",
       "      <td>45</td>\n",
       "    </tr>\n",
       "    <tr>\n",
       "      <th>8</th>\n",
       "      <td>best pop music playlist</td>\n",
       "      <td>43</td>\n",
       "    </tr>\n",
       "    <tr>\n",
       "      <th>9</th>\n",
       "      <td>music new song english</td>\n",
       "      <td>42</td>\n",
       "    </tr>\n",
       "    <tr>\n",
       "      <th>10</th>\n",
       "      <td>new song english song</td>\n",
       "      <td>41</td>\n",
       "    </tr>\n",
       "    <tr>\n",
       "      <th>11</th>\n",
       "      <td>top bollywood romantic love</td>\n",
       "      <td>41</td>\n",
       "    </tr>\n",
       "    <tr>\n",
       "      <th>12</th>\n",
       "      <td>songs best indian songs</td>\n",
       "      <td>40</td>\n",
       "    </tr>\n",
       "  </tbody>\n",
       "</table>\n",
       "</div>"
      ],
      "text/plain": [
       "                       four_grams  frequency\n",
       "0              pop music new song         63\n",
       "1        latest english songs pop         57\n",
       "2         english songs pop music         53\n",
       "3             songs pop music new         53\n",
       "4        new songs latest english         52\n",
       "5      songs latest english songs         51\n",
       "6   crash course european history         50\n",
       "7   bollywood romantic love songs         45\n",
       "8         best pop music playlist         43\n",
       "9          music new song english         42\n",
       "10          new song english song         41\n",
       "11    top bollywood romantic love         41\n",
       "12        songs best indian songs         40"
      ]
     },
     "execution_count": 21,
     "metadata": {},
     "output_type": "execute_result"
    }
   ],
   "source": [
    "four_top_10 = four_grams(youtube['title'], n=200)\n",
    "four_top_10 = pd.DataFrame(four_top_10)\n",
    "four_top_10.columns = ('four_grams', 'frequency')\n",
    "four_top_10[:13]"
   ]
  },
  {
   "cell_type": "code",
   "execution_count": 22,
   "metadata": {},
   "outputs": [
    {
     "data": {
      "text/html": [
       "<div>\n",
       "<style scoped>\n",
       "    .dataframe tbody tr th:only-of-type {\n",
       "        vertical-align: middle;\n",
       "    }\n",
       "\n",
       "    .dataframe tbody tr th {\n",
       "        vertical-align: top;\n",
       "    }\n",
       "\n",
       "    .dataframe thead th {\n",
       "        text-align: right;\n",
       "    }\n",
       "</style>\n",
       "<table border=\"1\" class=\"dataframe\">\n",
       "  <thead>\n",
       "    <tr style=\"text-align: right;\">\n",
       "      <th></th>\n",
       "      <th>four_grams</th>\n",
       "      <th>frequency</th>\n",
       "    </tr>\n",
       "  </thead>\n",
       "  <tbody>\n",
       "    <tr>\n",
       "      <th>0</th>\n",
       "      <td>¼â ¼â ¼â ¼â</td>\n",
       "      <td>184</td>\n",
       "    </tr>\n",
       "    <tr>\n",
       "      <th>1</th>\n",
       "      <td>dhum tara dhum tara</td>\n",
       "      <td>100</td>\n",
       "    </tr>\n",
       "    <tr>\n",
       "      <th>2</th>\n",
       "      <td>tara dhum tara dhum</td>\n",
       "      <td>80</td>\n",
       "    </tr>\n",
       "    <tr>\n",
       "      <th>3</th>\n",
       "      <td>dont forget like share</td>\n",
       "      <td>75</td>\n",
       "    </tr>\n",
       "    <tr>\n",
       "      <th>4</th>\n",
       "      <td>forget like share mix</td>\n",
       "      <td>69</td>\n",
       "    </tr>\n",
       "    <tr>\n",
       "      <th>5</th>\n",
       "      <td>like share mix enjoy</td>\n",
       "      <td>69</td>\n",
       "    </tr>\n",
       "    <tr>\n",
       "      <th>6</th>\n",
       "      <td>social sites facebook google</td>\n",
       "      <td>69</td>\n",
       "    </tr>\n",
       "    <tr>\n",
       "      <th>7</th>\n",
       "      <td>sites facebook google twitter</td>\n",
       "      <td>69</td>\n",
       "    </tr>\n",
       "    <tr>\n",
       "      <th>8</th>\n",
       "      <td>facebook google twitter etc</td>\n",
       "      <td>68</td>\n",
       "    </tr>\n",
       "    <tr>\n",
       "      <th>9</th>\n",
       "      <td>google twitter etc people</td>\n",
       "      <td>68</td>\n",
       "    </tr>\n",
       "    <tr>\n",
       "      <th>10</th>\n",
       "      <td>twitter etc people could</td>\n",
       "      <td>68</td>\n",
       "    </tr>\n",
       "    <tr>\n",
       "      <th>11</th>\n",
       "      <td>etc people could listen</td>\n",
       "      <td>68</td>\n",
       "    </tr>\n",
       "    <tr>\n",
       "      <th>12</th>\n",
       "      <td>songs please share mix</td>\n",
       "      <td>65</td>\n",
       "    </tr>\n",
       "  </tbody>\n",
       "</table>\n",
       "</div>"
      ],
      "text/plain": [
       "                       four_grams  frequency\n",
       "0                     ¼â ¼â ¼â ¼â        184\n",
       "1             dhum tara dhum tara        100\n",
       "2             tara dhum tara dhum         80\n",
       "3          dont forget like share         75\n",
       "4           forget like share mix         69\n",
       "5            like share mix enjoy         69\n",
       "6    social sites facebook google         69\n",
       "7   sites facebook google twitter         69\n",
       "8     facebook google twitter etc         68\n",
       "9       google twitter etc people         68\n",
       "10       twitter etc people could         68\n",
       "11        etc people could listen         68\n",
       "12         songs please share mix         65"
      ]
     },
     "execution_count": 22,
     "metadata": {},
     "output_type": "execute_result"
    }
   ],
   "source": [
    "four_top_10 = four_grams(youtube['description'], n=200)\n",
    "four_top_10 = pd.DataFrame(four_top_10)\n",
    "four_top_10.columns = ('four_grams', 'frequency')\n",
    "four_top_10[:13]"
   ]
  },
  {
   "cell_type": "markdown",
   "metadata": {},
   "source": [
    "Visualizing Four Grams."
   ]
  },
  {
   "cell_type": "code",
   "execution_count": 23,
   "metadata": {},
   "outputs": [
    {
     "data": {
      "text/plain": [
       "[Text(0, 0, '¼â ¼â ¼â ¼â'),\n",
       " Text(1, 0, 'dhum tara dhum tara'),\n",
       " Text(2, 0, 'tara dhum tara dhum'),\n",
       " Text(3, 0, 'dont forget like share'),\n",
       " Text(4, 0, 'forget like share mix'),\n",
       " Text(5, 0, 'like share mix enjoy'),\n",
       " Text(6, 0, 'social sites facebook google'),\n",
       " Text(7, 0, 'sites facebook google twitter'),\n",
       " Text(8, 0, 'facebook google twitter etc'),\n",
       " Text(9, 0, 'google twitter etc people')]"
      ]
     },
     "execution_count": 23,
     "metadata": {},
     "output_type": "execute_result"
    },
    {
     "data": {
      "image/png": "[encoded data removed]",
      "text/plain": [
       "<Figure size 1080x360 with 1 Axes>"
      ]
     },
     "metadata": {
      "needs_background": "light"
     },
     "output_type": "display_data"
    }
   ],
   "source": [
    "four_gram_graph = four_top_10.iloc[:10,:]\n",
    "\n",
    "fig = plt.figure(figsize = (15,5))\n",
    "plot = sns.barplot(x=four_gram_graph['four_grams'], y=four_gram_graph['frequency'])\n",
    "plot.set_xticklabels(rotation=45, labels = four_gram_graph['four_grams'])"
   ]
  },
  {
   "cell_type": "markdown",
   "metadata": {},
   "source": [
    "Count Vectorizer"
   ]
  },
  {
   "cell_type": "code",
   "execution_count": 24,
   "metadata": {},
   "outputs": [
    {
     "data": {
      "text/html": [
       "<div>\n",
       "<style scoped>\n",
       "    .dataframe tbody tr th:only-of-type {\n",
       "        vertical-align: middle;\n",
       "    }\n",
       "\n",
       "    .dataframe tbody tr th {\n",
       "        vertical-align: top;\n",
       "    }\n",
       "\n",
       "    .dataframe thead th {\n",
       "        text-align: right;\n",
       "    }\n",
       "</style>\n",
       "<table border=\"1\" class=\"dataframe\">\n",
       "  <thead>\n",
       "    <tr style=\"text-align: right;\">\n",
       "      <th></th>\n",
       "      <th>term</th>\n",
       "      <th>occurrences</th>\n",
       "      <th>frequency</th>\n",
       "    </tr>\n",
       "  </thead>\n",
       "  <tbody>\n",
       "    <tr>\n",
       "      <th>0</th>\n",
       "      <td>best</td>\n",
       "      <td>422</td>\n",
       "      <td>0.096040</td>\n",
       "    </tr>\n",
       "    <tr>\n",
       "      <th>1</th>\n",
       "      <td>food</td>\n",
       "      <td>947</td>\n",
       "      <td>0.215521</td>\n",
       "    </tr>\n",
       "    <tr>\n",
       "      <th>2</th>\n",
       "      <td>history</td>\n",
       "      <td>530</td>\n",
       "      <td>0.120619</td>\n",
       "    </tr>\n",
       "    <tr>\n",
       "      <th>3</th>\n",
       "      <td>indian</td>\n",
       "      <td>721</td>\n",
       "      <td>0.164087</td>\n",
       "    </tr>\n",
       "    <tr>\n",
       "      <th>4</th>\n",
       "      <td>songs</td>\n",
       "      <td>899</td>\n",
       "      <td>0.204597</td>\n",
       "    </tr>\n",
       "  </tbody>\n",
       "</table>\n",
       "</div>"
      ],
      "text/plain": [
       "      term  occurrences  frequency\n",
       "0     best          422   0.096040\n",
       "1     food          947   0.215521\n",
       "2  history          530   0.120619\n",
       "3   indian          721   0.164087\n",
       "4    songs          899   0.204597"
      ]
     },
     "execution_count": 24,
     "metadata": {},
     "output_type": "execute_result"
    }
   ],
   "source": [
    "from sklearn.feature_extraction.text import CountVectorizer\n",
    "import numpy as np \n",
    "vectorizer = CountVectorizer(min_df = 0.1, max_df= 0.9)\n",
    "X = vectorizer.fit_transform(youtube['title'])\n",
    "title_word_freq_df = pd.DataFrame({'term':vectorizer.get_feature_names(), 'occurrences': np.asarray(X.sum(axis=0)).ravel().tolist()})\n",
    "title_word_freq_df['frequency'] = title_word_freq_df['occurrences']/np.sum(title_word_freq_df['occurrences'])\n",
    "\n",
    "title_word_freq_df.head()\n"
   ]
  },
  {
   "cell_type": "markdown",
   "metadata": {},
   "source": [
    "TfidfVectorizer"
   ]
  },
  {
   "cell_type": "code",
   "execution_count": 25,
   "metadata": {},
   "outputs": [
    {
     "data": {
      "text/html": [
       "<div>\n",
       "<style scoped>\n",
       "    .dataframe tbody tr th:only-of-type {\n",
       "        vertical-align: middle;\n",
       "    }\n",
       "\n",
       "    .dataframe tbody tr th {\n",
       "        vertical-align: top;\n",
       "    }\n",
       "\n",
       "    .dataframe thead th {\n",
       "        text-align: right;\n",
       "    }\n",
       "</style>\n",
       "<table border=\"1\" class=\"dataframe\">\n",
       "  <thead>\n",
       "    <tr style=\"text-align: right;\">\n",
       "      <th></th>\n",
       "      <th>aamir</th>\n",
       "      <th>abhijit</th>\n",
       "      <th>abstract</th>\n",
       "      <th>academy</th>\n",
       "      <th>acoustic</th>\n",
       "      <th>acrylic</th>\n",
       "      <th>ad</th>\n",
       "      <th>adele</th>\n",
       "      <th>affiliate</th>\n",
       "      <th>africa</th>\n",
       "      <th>...</th>\n",
       "      <th>ºð</th>\n",
       "      <th>¼à</th>\n",
       "      <th>¼ã</th>\n",
       "      <th>¾à</th>\n",
       "      <th>à²</th>\n",
       "      <th>à²²à²</th>\n",
       "      <th>à²²à³</th>\n",
       "      <th>à²¾à²</th>\n",
       "      <th>à³</th>\n",
       "      <th>àµ</th>\n",
       "    </tr>\n",
       "  </thead>\n",
       "  <tbody>\n",
       "    <tr>\n",
       "      <th>0</th>\n",
       "      <td>0.0</td>\n",
       "      <td>0.0</td>\n",
       "      <td>0.0</td>\n",
       "      <td>0.0</td>\n",
       "      <td>0.0</td>\n",
       "      <td>0.0</td>\n",
       "      <td>0.0</td>\n",
       "      <td>0.0</td>\n",
       "      <td>0.0</td>\n",
       "      <td>0.0</td>\n",
       "      <td>...</td>\n",
       "      <td>0.0</td>\n",
       "      <td>0.0</td>\n",
       "      <td>0.0</td>\n",
       "      <td>0.0</td>\n",
       "      <td>0.0</td>\n",
       "      <td>0.0</td>\n",
       "      <td>0.0</td>\n",
       "      <td>0.0</td>\n",
       "      <td>0.0</td>\n",
       "      <td>0.0</td>\n",
       "    </tr>\n",
       "    <tr>\n",
       "      <th>1</th>\n",
       "      <td>0.0</td>\n",
       "      <td>0.0</td>\n",
       "      <td>0.0</td>\n",
       "      <td>0.0</td>\n",
       "      <td>0.0</td>\n",
       "      <td>0.0</td>\n",
       "      <td>0.0</td>\n",
       "      <td>0.0</td>\n",
       "      <td>0.0</td>\n",
       "      <td>0.0</td>\n",
       "      <td>...</td>\n",
       "      <td>0.0</td>\n",
       "      <td>0.0</td>\n",
       "      <td>0.0</td>\n",
       "      <td>0.0</td>\n",
       "      <td>0.0</td>\n",
       "      <td>0.0</td>\n",
       "      <td>0.0</td>\n",
       "      <td>0.0</td>\n",
       "      <td>0.0</td>\n",
       "      <td>0.0</td>\n",
       "    </tr>\n",
       "    <tr>\n",
       "      <th>2</th>\n",
       "      <td>0.0</td>\n",
       "      <td>0.0</td>\n",
       "      <td>0.0</td>\n",
       "      <td>0.0</td>\n",
       "      <td>0.0</td>\n",
       "      <td>0.0</td>\n",
       "      <td>0.0</td>\n",
       "      <td>0.0</td>\n",
       "      <td>0.0</td>\n",
       "      <td>0.0</td>\n",
       "      <td>...</td>\n",
       "      <td>0.0</td>\n",
       "      <td>0.0</td>\n",
       "      <td>0.0</td>\n",
       "      <td>0.0</td>\n",
       "      <td>0.0</td>\n",
       "      <td>0.0</td>\n",
       "      <td>0.0</td>\n",
       "      <td>0.0</td>\n",
       "      <td>0.0</td>\n",
       "      <td>0.0</td>\n",
       "    </tr>\n",
       "    <tr>\n",
       "      <th>3</th>\n",
       "      <td>0.0</td>\n",
       "      <td>0.0</td>\n",
       "      <td>0.0</td>\n",
       "      <td>0.0</td>\n",
       "      <td>0.0</td>\n",
       "      <td>0.0</td>\n",
       "      <td>0.0</td>\n",
       "      <td>0.0</td>\n",
       "      <td>0.0</td>\n",
       "      <td>0.0</td>\n",
       "      <td>...</td>\n",
       "      <td>0.0</td>\n",
       "      <td>0.0</td>\n",
       "      <td>0.0</td>\n",
       "      <td>0.0</td>\n",
       "      <td>0.0</td>\n",
       "      <td>0.0</td>\n",
       "      <td>0.0</td>\n",
       "      <td>0.0</td>\n",
       "      <td>0.0</td>\n",
       "      <td>0.0</td>\n",
       "    </tr>\n",
       "    <tr>\n",
       "      <th>4</th>\n",
       "      <td>0.0</td>\n",
       "      <td>0.0</td>\n",
       "      <td>0.0</td>\n",
       "      <td>0.0</td>\n",
       "      <td>0.0</td>\n",
       "      <td>0.0</td>\n",
       "      <td>0.0</td>\n",
       "      <td>0.0</td>\n",
       "      <td>0.0</td>\n",
       "      <td>0.0</td>\n",
       "      <td>...</td>\n",
       "      <td>0.0</td>\n",
       "      <td>0.0</td>\n",
       "      <td>0.0</td>\n",
       "      <td>0.0</td>\n",
       "      <td>0.0</td>\n",
       "      <td>0.0</td>\n",
       "      <td>0.0</td>\n",
       "      <td>0.0</td>\n",
       "      <td>0.0</td>\n",
       "      <td>0.0</td>\n",
       "    </tr>\n",
       "    <tr>\n",
       "      <th>...</th>\n",
       "      <td>...</td>\n",
       "      <td>...</td>\n",
       "      <td>...</td>\n",
       "      <td>...</td>\n",
       "      <td>...</td>\n",
       "      <td>...</td>\n",
       "      <td>...</td>\n",
       "      <td>...</td>\n",
       "      <td>...</td>\n",
       "      <td>...</td>\n",
       "      <td>...</td>\n",
       "      <td>...</td>\n",
       "      <td>...</td>\n",
       "      <td>...</td>\n",
       "      <td>...</td>\n",
       "      <td>...</td>\n",
       "      <td>...</td>\n",
       "      <td>...</td>\n",
       "      <td>...</td>\n",
       "      <td>...</td>\n",
       "      <td>...</td>\n",
       "    </tr>\n",
       "    <tr>\n",
       "      <th>3594</th>\n",
       "      <td>0.0</td>\n",
       "      <td>0.0</td>\n",
       "      <td>0.0</td>\n",
       "      <td>0.0</td>\n",
       "      <td>0.0</td>\n",
       "      <td>0.0</td>\n",
       "      <td>0.0</td>\n",
       "      <td>0.0</td>\n",
       "      <td>0.0</td>\n",
       "      <td>0.0</td>\n",
       "      <td>...</td>\n",
       "      <td>0.0</td>\n",
       "      <td>0.0</td>\n",
       "      <td>0.0</td>\n",
       "      <td>0.0</td>\n",
       "      <td>0.0</td>\n",
       "      <td>0.0</td>\n",
       "      <td>0.0</td>\n",
       "      <td>0.0</td>\n",
       "      <td>0.0</td>\n",
       "      <td>0.0</td>\n",
       "    </tr>\n",
       "    <tr>\n",
       "      <th>3595</th>\n",
       "      <td>0.0</td>\n",
       "      <td>0.0</td>\n",
       "      <td>0.0</td>\n",
       "      <td>0.0</td>\n",
       "      <td>0.0</td>\n",
       "      <td>0.0</td>\n",
       "      <td>0.0</td>\n",
       "      <td>0.0</td>\n",
       "      <td>0.0</td>\n",
       "      <td>0.0</td>\n",
       "      <td>...</td>\n",
       "      <td>0.0</td>\n",
       "      <td>0.0</td>\n",
       "      <td>0.0</td>\n",
       "      <td>0.0</td>\n",
       "      <td>0.0</td>\n",
       "      <td>0.0</td>\n",
       "      <td>0.0</td>\n",
       "      <td>0.0</td>\n",
       "      <td>0.0</td>\n",
       "      <td>0.0</td>\n",
       "    </tr>\n",
       "    <tr>\n",
       "      <th>3596</th>\n",
       "      <td>0.0</td>\n",
       "      <td>0.0</td>\n",
       "      <td>0.0</td>\n",
       "      <td>0.0</td>\n",
       "      <td>0.0</td>\n",
       "      <td>0.0</td>\n",
       "      <td>0.0</td>\n",
       "      <td>0.0</td>\n",
       "      <td>0.0</td>\n",
       "      <td>0.0</td>\n",
       "      <td>...</td>\n",
       "      <td>0.0</td>\n",
       "      <td>0.0</td>\n",
       "      <td>0.0</td>\n",
       "      <td>0.0</td>\n",
       "      <td>0.0</td>\n",
       "      <td>0.0</td>\n",
       "      <td>0.0</td>\n",
       "      <td>0.0</td>\n",
       "      <td>0.0</td>\n",
       "      <td>0.0</td>\n",
       "    </tr>\n",
       "    <tr>\n",
       "      <th>3597</th>\n",
       "      <td>0.0</td>\n",
       "      <td>0.0</td>\n",
       "      <td>0.0</td>\n",
       "      <td>0.0</td>\n",
       "      <td>0.0</td>\n",
       "      <td>0.0</td>\n",
       "      <td>0.0</td>\n",
       "      <td>0.0</td>\n",
       "      <td>0.0</td>\n",
       "      <td>0.0</td>\n",
       "      <td>...</td>\n",
       "      <td>0.0</td>\n",
       "      <td>0.0</td>\n",
       "      <td>0.0</td>\n",
       "      <td>0.0</td>\n",
       "      <td>0.0</td>\n",
       "      <td>0.0</td>\n",
       "      <td>0.0</td>\n",
       "      <td>0.0</td>\n",
       "      <td>0.0</td>\n",
       "      <td>0.0</td>\n",
       "    </tr>\n",
       "    <tr>\n",
       "      <th>3598</th>\n",
       "      <td>0.0</td>\n",
       "      <td>0.0</td>\n",
       "      <td>0.0</td>\n",
       "      <td>0.0</td>\n",
       "      <td>0.0</td>\n",
       "      <td>0.0</td>\n",
       "      <td>0.0</td>\n",
       "      <td>0.0</td>\n",
       "      <td>0.0</td>\n",
       "      <td>0.0</td>\n",
       "      <td>...</td>\n",
       "      <td>0.0</td>\n",
       "      <td>0.0</td>\n",
       "      <td>0.0</td>\n",
       "      <td>0.0</td>\n",
       "      <td>0.0</td>\n",
       "      <td>0.0</td>\n",
       "      <td>0.0</td>\n",
       "      <td>0.0</td>\n",
       "      <td>0.0</td>\n",
       "      <td>0.0</td>\n",
       "    </tr>\n",
       "  </tbody>\n",
       "</table>\n",
       "<p>3599 rows × 1000 columns</p>\n",
       "</div>"
      ],
      "text/plain": [
       "      aamir  abhijit  abstract  academy  acoustic  acrylic   ad  adele  \\\n",
       "0       0.0      0.0       0.0      0.0       0.0      0.0  0.0    0.0   \n",
       "1       0.0      0.0       0.0      0.0       0.0      0.0  0.0    0.0   \n",
       "2       0.0      0.0       0.0      0.0       0.0      0.0  0.0    0.0   \n",
       "3       0.0      0.0       0.0      0.0       0.0      0.0  0.0    0.0   \n",
       "4       0.0      0.0       0.0      0.0       0.0      0.0  0.0    0.0   \n",
       "...     ...      ...       ...      ...       ...      ...  ...    ...   \n",
       "3594    0.0      0.0       0.0      0.0       0.0      0.0  0.0    0.0   \n",
       "3595    0.0      0.0       0.0      0.0       0.0      0.0  0.0    0.0   \n",
       "3596    0.0      0.0       0.0      0.0       0.0      0.0  0.0    0.0   \n",
       "3597    0.0      0.0       0.0      0.0       0.0      0.0  0.0    0.0   \n",
       "3598    0.0      0.0       0.0      0.0       0.0      0.0  0.0    0.0   \n",
       "\n",
       "      affiliate  africa  ...   ºð   ¼à   ¼ã   ¾à   à²  à²²à²  à²²à³  à²¾à²  \\\n",
       "0           0.0     0.0  ...  0.0  0.0  0.0  0.0  0.0    0.0    0.0    0.0   \n",
       "1           0.0     0.0  ...  0.0  0.0  0.0  0.0  0.0    0.0    0.0    0.0   \n",
       "2           0.0     0.0  ...  0.0  0.0  0.0  0.0  0.0    0.0    0.0    0.0   \n",
       "3           0.0     0.0  ...  0.0  0.0  0.0  0.0  0.0    0.0    0.0    0.0   \n",
       "4           0.0     0.0  ...  0.0  0.0  0.0  0.0  0.0    0.0    0.0    0.0   \n",
       "...         ...     ...  ...  ...  ...  ...  ...  ...    ...    ...    ...   \n",
       "3594        0.0     0.0  ...  0.0  0.0  0.0  0.0  0.0    0.0    0.0    0.0   \n",
       "3595        0.0     0.0  ...  0.0  0.0  0.0  0.0  0.0    0.0    0.0    0.0   \n",
       "3596        0.0     0.0  ...  0.0  0.0  0.0  0.0  0.0    0.0    0.0    0.0   \n",
       "3597        0.0     0.0  ...  0.0  0.0  0.0  0.0  0.0    0.0    0.0    0.0   \n",
       "3598        0.0     0.0  ...  0.0  0.0  0.0  0.0  0.0    0.0    0.0    0.0   \n",
       "\n",
       "       à³   àµ  \n",
       "0     0.0  0.0  \n",
       "1     0.0  0.0  \n",
       "2     0.0  0.0  \n",
       "3     0.0  0.0  \n",
       "4     0.0  0.0  \n",
       "...   ...  ...  \n",
       "3594  0.0  0.0  \n",
       "3595  0.0  0.0  \n",
       "3596  0.0  0.0  \n",
       "3597  0.0  0.0  \n",
       "3598  0.0  0.0  \n",
       "\n",
       "[3599 rows x 1000 columns]"
      ]
     },
     "execution_count": 25,
     "metadata": {},
     "output_type": "execute_result"
    }
   ],
   "source": [
    "from sklearn.feature_extraction.text import TfidfVectorizer\n",
    "vect = TfidfVectorizer(stop_words='english', max_features=1000, max_df = 0.5, smooth_idf=True)\n",
    "doc_vec = vect.fit_transform(youtube['title'])\n",
    "names_features = vect.get_feature_names()\n",
    "dense = doc_vec.todense()\n",
    "denselist = dense.tolist()\n",
    "\n",
    "df = pd.DataFrame(denselist, columns  = names_features)\n",
    "\n",
    "df"
   ]
  },
  {
   "cell_type": "code",
   "execution_count": 26,
   "metadata": {},
   "outputs": [],
   "source": [
    "def split_into_words(i):\n",
    "    return (i.split(\" \"))"
   ]
  },
  {
   "cell_type": "markdown",
   "metadata": {},
   "source": [
    "Title Model Building "
   ]
  },
  {
   "cell_type": "code",
   "execution_count": 27,
   "metadata": {},
   "outputs": [
    {
     "data": {
      "text/html": [
       "<div>\n",
       "<style scoped>\n",
       "    .dataframe tbody tr th:only-of-type {\n",
       "        vertical-align: middle;\n",
       "    }\n",
       "\n",
       "    .dataframe tbody tr th {\n",
       "        vertical-align: top;\n",
       "    }\n",
       "\n",
       "    .dataframe thead th {\n",
       "        text-align: right;\n",
       "    }\n",
       "</style>\n",
       "<table border=\"1\" class=\"dataframe\">\n",
       "  <thead>\n",
       "    <tr style=\"text-align: right;\">\n",
       "      <th></th>\n",
       "      <th>title</th>\n",
       "      <th>category</th>\n",
       "    </tr>\n",
       "  </thead>\n",
       "  <tbody>\n",
       "    <tr>\n",
       "      <th>0</th>\n",
       "      <td>ep travelling north east india arunachal journ...</td>\n",
       "      <td>3</td>\n",
       "    </tr>\n",
       "    <tr>\n",
       "      <th>1</th>\n",
       "      <td>welcome bali travel vlog priscilla lee</td>\n",
       "      <td>3</td>\n",
       "    </tr>\n",
       "    <tr>\n",
       "      <th>2</th>\n",
       "      <td>solo trip alaska cruising vancouver anchorage</td>\n",
       "      <td>3</td>\n",
       "    </tr>\n",
       "    <tr>\n",
       "      <th>3</th>\n",
       "      <td>traveling happiest country world</td>\n",
       "      <td>3</td>\n",
       "    </tr>\n",
       "    <tr>\n",
       "      <th>4</th>\n",
       "      <td>solo paro bhutan tigers nest visit bhutan trav...</td>\n",
       "      <td>3</td>\n",
       "    </tr>\n",
       "    <tr>\n",
       "      <th>...</th>\n",
       "      <td>...</td>\n",
       "      <td>...</td>\n",
       "    </tr>\n",
       "    <tr>\n",
       "      <th>3594</th>\n",
       "      <td>century challenges crash course european history</td>\n",
       "      <td>2</td>\n",
       "    </tr>\n",
       "    <tr>\n",
       "      <th>3595</th>\n",
       "      <td>eu dataviz webinar barnaby skinner make data e...</td>\n",
       "      <td>2</td>\n",
       "    </tr>\n",
       "    <tr>\n",
       "      <th>3596</th>\n",
       "      <td>stone age scandinavia first people north bc</td>\n",
       "      <td>2</td>\n",
       "    </tr>\n",
       "    <tr>\n",
       "      <th>3597</th>\n",
       "      <td>ap european history interwar period paris peac...</td>\n",
       "      <td>2</td>\n",
       "    </tr>\n",
       "    <tr>\n",
       "      <th>3598</th>\n",
       "      <td>world war allied conferences ap european history</td>\n",
       "      <td>2</td>\n",
       "    </tr>\n",
       "  </tbody>\n",
       "</table>\n",
       "<p>3599 rows × 2 columns</p>\n",
       "</div>"
      ],
      "text/plain": [
       "                                                  title  category\n",
       "0     ep travelling north east india arunachal journ...         3\n",
       "1                welcome bali travel vlog priscilla lee         3\n",
       "2         solo trip alaska cruising vancouver anchorage         3\n",
       "3                      traveling happiest country world         3\n",
       "4     solo paro bhutan tigers nest visit bhutan trav...         3\n",
       "...                                                 ...       ...\n",
       "3594   century challenges crash course european history         2\n",
       "3595  eu dataviz webinar barnaby skinner make data e...         2\n",
       "3596        stone age scandinavia first people north bc         2\n",
       "3597  ap european history interwar period paris peac...         2\n",
       "3598   world war allied conferences ap european history         2\n",
       "\n",
       "[3599 rows x 2 columns]"
      ]
     },
     "execution_count": 27,
     "metadata": {},
     "output_type": "execute_result"
    }
   ],
   "source": [
    "youtube_title = youtube[['title', 'category']]\n",
    "\n",
    "youtube_title"
   ]
  },
  {
   "cell_type": "markdown",
   "metadata": {},
   "source": [
    "Splitting the data using Train Test Split"
   ]
  },
  {
   "cell_type": "code",
   "execution_count": 28,
   "metadata": {},
   "outputs": [],
   "source": [
    "from sklearn.model_selection import train_test_split\n",
    "\n",
    "title_train, title_test = train_test_split(youtube_title, test_size = 0.30)\n",
    "\n",
    "title_bow = CountVectorizer(analyzer= split_into_words).fit(youtube_title.title)"
   ]
  },
  {
   "cell_type": "markdown",
   "metadata": {},
   "source": [
    "Transforming the data"
   ]
  },
  {
   "cell_type": "code",
   "execution_count": 29,
   "metadata": {},
   "outputs": [],
   "source": [
    "\n",
    "all_title_matrix = title_bow.transform(youtube_title.title)\n",
    "train_title_matrix  = title_bow.transform(title_train.title)\n",
    "test_title_matrix = title_bow.transform(title_test.title)\n"
   ]
  },
  {
   "cell_type": "markdown",
   "metadata": {},
   "source": [
    "MultinomialNB Model."
   ]
  },
  {
   "cell_type": "code",
   "execution_count": 30,
   "metadata": {},
   "outputs": [
    {
     "name": "stdout",
     "output_type": "stream",
     "text": [
      "0.9908693926161175\n",
      "0.9777777777777777\n"
     ]
    }
   ],
   "source": [
    "from sklearn.naive_bayes import MultinomialNB as MB\n",
    "\n",
    "classifier_mb = MB()\n",
    "classifier_mb.fit(train_title_matrix, title_train.category)\n",
    "train_pred_m = classifier_mb.predict(train_title_matrix)\n",
    "score_train_MB = classifier_mb.score(train_title_matrix, title_train.category)\n",
    "print(score_train_MB)\n",
    "\n",
    "test_pred_mb = classifier_mb.predict(test_title_matrix)\n",
    "score_test_MB = classifier_mb.score(test_title_matrix, title_test.category)\n",
    "print(score_test_MB)\n"
   ]
  },
  {
   "cell_type": "markdown",
   "metadata": {},
   "source": [
    "GaussianNB Model."
   ]
  },
  {
   "cell_type": "code",
   "execution_count": 31,
   "metadata": {},
   "outputs": [
    {
     "name": "stdout",
     "output_type": "stream",
     "text": [
      "0.9880905121079794\n",
      "0.8962962962962963\n"
     ]
    }
   ],
   "source": [
    "from sklearn.naive_bayes import GaussianNB as GB\n",
    "import numpy\n",
    "\n",
    "gb_classifier = GB()\n",
    "\n",
    "gb_train_fit = gb_classifier.fit(train_title_matrix.toarray(), title_train.category.values)\n",
    "gb_train_pred = gb_classifier.predict(train_title_matrix.toarray())\n",
    "\n",
    "gb_score = np.mean(gb_train_pred == title_train.category)\n",
    "print(gb_score)\n",
    "\n",
    "gb_test_pred = gb_classifier.predict(test_title_matrix.toarray())\n",
    "gb_test_score = np.mean(gb_test_pred == title_test.category)\n",
    "print(gb_test_score)\n",
    "\n",
    "\n"
   ]
  },
  {
   "cell_type": "markdown",
   "metadata": {},
   "source": [
    "Modeling with TfidfTransformer. "
   ]
  },
  {
   "cell_type": "code",
   "execution_count": 32,
   "metadata": {},
   "outputs": [],
   "source": [
    "from sklearn.feature_extraction.text import TfidfTransformer\n",
    "\n",
    "tfidf = TfidfTransformer().fit(all_title_matrix)\n",
    "\n",
    "tfidf_train_matrix = tfidf.transform(train_title_matrix)\n",
    "tfidf_test_matrix = tfidf.transform(test_title_matrix)\n"
   ]
  },
  {
   "cell_type": "code",
   "execution_count": 33,
   "metadata": {},
   "outputs": [
    {
     "name": "stdout",
     "output_type": "stream",
     "text": [
      "0.9912663755458515\n",
      "0.9638888888888889\n"
     ]
    }
   ],
   "source": [
    "#tfidf MultinomialNB\n",
    "tfidf_train_fitting = classifier_mb.fit(tfidf_train_matrix, title_train.category)\n",
    "tfidf_train_pred = classifier_mb.predict(tfidf_train_matrix)\n",
    "tfidf_train_score = np.mean(tfidf_train_pred == title_train.category)\n",
    "\n",
    "print(tfidf_train_score)\n",
    "\n",
    "tfidf_test_pred = classifier_mb.predict(tfidf_test_matrix)\n",
    "tfidf_test_score = np.mean(tfidf_test_pred == title_test.category)\n",
    "print(tfidf_test_score)"
   ]
  },
  {
   "cell_type": "code",
   "execution_count": 34,
   "metadata": {},
   "outputs": [
    {
     "name": "stdout",
     "output_type": "stream",
     "text": [
      "0.9892814608971814\n",
      "0.8537037037037037\n"
     ]
    }
   ],
   "source": [
    "#TFIDF GaussianNB\n",
    "\n",
    "gb_classifier = GB()\n",
    "\n",
    "gb_train_fit = gb_classifier.fit(tfidf_train_matrix.toarray(), title_train.category.values)\n",
    "gb_train_pred = gb_classifier.predict(tfidf_train_matrix.toarray())\n",
    "\n",
    "gb_score = np.mean(gb_train_pred == title_train.category)\n",
    "print(gb_score)\n",
    "\n",
    "gb_test_pred = gb_classifier.predict(tfidf_test_matrix.toarray())\n",
    "gb_test_score = np.mean(gb_test_pred == title_test.category)\n",
    "print(gb_test_score)\n",
    "\n",
    "\n"
   ]
  },
  {
   "cell_type": "markdown",
   "metadata": {},
   "source": [
    "Using Count Vectorizer with the Multinomial NB is the best model. I will build this model using the entire data set. "
   ]
  },
  {
   "cell_type": "code",
   "execution_count": 35,
   "metadata": {},
   "outputs": [
    {
     "name": "stdout",
     "output_type": "stream",
     "text": [
      "0.991386496248958\n"
     ]
    }
   ],
   "source": [
    "classifier_mb.fit(all_title_matrix, youtube_title.category)\n",
    "all_pred_m = classifier_mb.predict(all_title_matrix)\n",
    "all_score_MB = classifier_mb.score(all_title_matrix, youtube_title.category)\n",
    "print(all_score_MB)\n"
   ]
  },
  {
   "cell_type": "markdown",
   "metadata": {},
   "source": [
    "Testing the model on new Titles. "
   ]
  },
  {
   "cell_type": "code",
   "execution_count": 36,
   "metadata": {},
   "outputs": [],
   "source": [
    "def catefory_func(pred):\n",
    "    if pred == 0:\n",
    "        return 'travel'\n",
    "    elif pred == 1:\n",
    "        return 'food'\n",
    "    elif pred == 2:\n",
    "        return 'art_music'\n",
    "    else:\n",
    "        return 'history'"
   ]
  },
  {
   "cell_type": "code",
   "execution_count": 37,
   "metadata": {},
   "outputs": [
    {
     "name": "stdout",
     "output_type": "stream",
     "text": [
      "food\n"
     ]
    }
   ],
   "source": [
    "new_title = ['Want to eat Man!!!']\n",
    "\n",
    "new_matrix = title_bow.transform(new_title)\n",
    "\n",
    "new_pred = classifier_mb.predict(new_matrix)\n",
    "\n",
    "print(catefory_func(new_pred))"
   ]
  },
  {
   "cell_type": "markdown",
   "metadata": {},
   "source": [
    "Description model building. "
   ]
  },
  {
   "cell_type": "code",
   "execution_count": 38,
   "metadata": {},
   "outputs": [
    {
     "data": {
      "text/plain": [
       "CountVectorizer(analyzer=<function split_into_words at 0x7ff779f75160>)"
      ]
     },
     "execution_count": 38,
     "metadata": {},
     "output_type": "execute_result"
    }
   ],
   "source": [
    "youtube_description = youtube[['description','category']]\n",
    "\n",
    "description_train, description_test = train_test_split(youtube_description, test_size=0.30)\n",
    "\n",
    "youtube_description_bow = CountVectorizer(analyzer=split_into_words).fit(youtube_description.description)\n",
    "\n",
    "youtube_description_bow"
   ]
  },
  {
   "cell_type": "code",
   "execution_count": 39,
   "metadata": {},
   "outputs": [
    {
     "name": "stdout",
     "output_type": "stream",
     "text": [
      "(3599, 23003)\n",
      "(2519, 23003)\n",
      "(1080, 23003)\n"
     ]
    }
   ],
   "source": [
    "\n",
    "all_description_matrix = youtube_description_bow.transform(youtube_description.description)\n",
    "train_description_matrix  = youtube_description_bow.transform(description_train.description)\n",
    "test_description_matrix = youtube_description_bow.transform(description_test.description)\n",
    "\n",
    "\n",
    "print(all_description_matrix.shape)\n",
    "print(train_description_matrix.shape)\n",
    "print(test_description_matrix.shape)"
   ]
  },
  {
   "cell_type": "code",
   "execution_count": 40,
   "metadata": {},
   "outputs": [
    {
     "name": "stdout",
     "output_type": "stream",
     "text": [
      "0.9694323144104804\n",
      "0.9148148148148149\n"
     ]
    }
   ],
   "source": [
    "#Multinomial NB\n",
    "classifier_mb = MB()\n",
    "classifier_mb.fit(train_description_matrix, description_train.category)\n",
    "train_pred_m = classifier_mb.predict(train_description_matrix)\n",
    "score_train_MB = classifier_mb.score(train_description_matrix, description_train.category)\n",
    "print(score_train_MB)\n",
    "\n",
    "test_pred_mb = classifier_mb.predict(test_description_matrix)\n",
    "score_test_MB = classifier_mb.score(test_description_matrix, description_test.category)\n",
    "print(score_test_MB)"
   ]
  },
  {
   "cell_type": "code",
   "execution_count": 41,
   "metadata": {},
   "outputs": [
    {
     "name": "stdout",
     "output_type": "stream",
     "text": [
      "0.9880905121079794\n",
      "0.812962962962963\n"
     ]
    }
   ],
   "source": [
    "#Gaussian \n",
    "gb_classifier = GB()\n",
    "\n",
    "gb_train_fit = gb_classifier.fit(train_description_matrix.toarray(), description_train.category.values)\n",
    "gb_train_pred = gb_classifier.predict(train_description_matrix.toarray())\n",
    "\n",
    "gb_score = np.mean(gb_train_pred == description_train.category)\n",
    "print(gb_score)\n",
    "\n",
    "gb_test_pred = gb_classifier.predict(test_description_matrix.toarray())\n",
    "gb_test_score = np.mean(gb_test_pred == description_test.category)\n",
    "print(gb_test_score)\n"
   ]
  },
  {
   "cell_type": "code",
   "execution_count": 42,
   "metadata": {},
   "outputs": [],
   "source": [
    "from sklearn.feature_extraction.text import TfidfTransformer\n",
    "\n",
    "tfidf = TfidfTransformer().fit(all_description_matrix)\n",
    "\n",
    "tfidf_train_matrix = tfidf.transform(train_description_matrix)\n",
    "tfidf_test_matrix = tfidf.transform(test_description_matrix)\n"
   ]
  },
  {
   "cell_type": "code",
   "execution_count": 43,
   "metadata": {},
   "outputs": [
    {
     "name": "stdout",
     "output_type": "stream",
     "text": [
      "0.9599047240968638\n",
      "0.8916666666666667\n"
     ]
    }
   ],
   "source": [
    "#TFIDF NB\n",
    "tfidf_train_fitting = classifier_mb.fit(tfidf_train_matrix, description_train.category)\n",
    "tfidf_train_pred = classifier_mb.predict(tfidf_train_matrix)\n",
    "tfidf_train_score = np.mean(tfidf_train_pred == description_train.category)\n",
    "\n",
    "print(tfidf_train_score)\n",
    "\n",
    "tfidf_test_pred = classifier_mb.predict(tfidf_test_matrix)\n",
    "tfidf_test_score = np.mean(tfidf_test_pred == description_test.category)\n",
    "print(tfidf_test_score)"
   ]
  },
  {
   "cell_type": "code",
   "execution_count": 44,
   "metadata": {},
   "outputs": [
    {
     "name": "stdout",
     "output_type": "stream",
     "text": [
      "0.9944422389837237\n",
      "0.8027777777777778\n"
     ]
    }
   ],
   "source": [
    "#TFIDF Gaussian\n",
    "gb_classifier = GB()\n",
    "\n",
    "gb_train_fit = gb_classifier.fit(tfidf_train_matrix.toarray(), description_train.category.values)\n",
    "gb_train_pred = gb_classifier.predict(tfidf_train_matrix.toarray())\n",
    "\n",
    "gb_score = np.mean(gb_train_pred == description_train.category)\n",
    "print(gb_score)\n",
    "\n",
    "gb_test_pred = gb_classifier.predict(tfidf_test_matrix.toarray())\n",
    "gb_test_score = np.mean(gb_test_pred == description_test.category)\n",
    "print(gb_test_score)"
   ]
  },
  {
   "cell_type": "markdown",
   "metadata": {},
   "source": [
    "Using Count Vectorizer with the Multinomial NB is the best model. I will build this model using the entire data set. "
   ]
  },
  {
   "cell_type": "code",
   "execution_count": 45,
   "metadata": {},
   "outputs": [
    {
     "name": "stdout",
     "output_type": "stream",
     "text": [
      "0.9658238399555432\n"
     ]
    }
   ],
   "source": [
    "classifier_mb.fit(all_description_matrix, youtube_description.category)\n",
    "all_pred_m = classifier_mb.predict(all_description_matrix)\n",
    "all_score_MB = classifier_mb.score(all_description_matrix, youtube_description.category)\n",
    "print(all_score_MB)"
   ]
  },
  {
   "cell_type": "markdown",
   "metadata": {},
   "source": [
    "Testing my model."
   ]
  },
  {
   "cell_type": "code",
   "execution_count": 46,
   "metadata": {},
   "outputs": [
    {
     "name": "stdout",
     "output_type": "stream",
     "text": [
      "history\n"
     ]
    }
   ],
   "source": [
    "new_description = ['Learning about our roots to move forward in life.']\n",
    "\n",
    "new_description_matrix = youtube_description_bow.transform(new_description)\n",
    "\n",
    "description_pred = classifier_mb.predict(new_description_matrix)\n",
    "\n",
    "print(catefory_func(description_pred))"
   ]
  }
 ],
 "metadata": {
  "interpreter": {
   "hash": "aa9842d1c1315e4ba4e499442ba20d43fb13b60c615e2e67f23fa7ce3501b665"
  },
  "kernelspec": {
   "display_name": "Python 3.9.7 ('base')",
   "language": "python",
   "name": "python3"
  },
  "language_info": {
   "codemirror_mode": {
    "name": "ipython",
    "version": 3
   },
   "file_extension": ".py",
   "mimetype": "text/x-python",
   "name": "python",
   "nbconvert_exporter": "python",
   "pygments_lexer": "ipython3",
   "version": "3.9.7"
  },
  "orig_nbformat": 4
 },
 "nbformat": 4,
 "nbformat_minor": 2
}
